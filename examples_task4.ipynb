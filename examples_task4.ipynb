{
 "cells": [
  {
   "cell_type": "markdown",
   "id": "f91ed6d9",
   "metadata": {},
   "source": [
    "# example of addValue"
   ]
  },
  {
   "cell_type": "code",
   "execution_count": 2,
   "id": "072c9138",
   "metadata": {},
   "outputs": [
    {
     "data": {
      "text/plain": [
       "15"
      ]
     },
     "execution_count": 2,
     "metadata": {},
     "output_type": "execute_result"
    }
   ],
   "source": [
    "class mathOperation:\n",
    "    a = 0\n",
    "    b = 0\n",
    "    op = ''\n",
    "\n",
    "    def __init__(self,aVal,bVal,opVal):\n",
    "        self.a = aVal\n",
    "        self.b = bVal\n",
    "        self.op = opVal\n",
    "\n",
    "    def addValue(self):\n",
    "        return self.a + self.b\n",
    "    \n",
    "m1 = mathOperation(10,5,'add')\n",
    "\n",
    "m1.addValue()\n",
    "    "
   ]
  },
  {
   "cell_type": "markdown",
   "id": "9326af9c",
   "metadata": {},
   "source": []
  },
  {
   "cell_type": "markdown",
   "id": "9a8731eb",
   "metadata": {},
   "source": [
    "# example of subValue"
   ]
  },
  {
   "cell_type": "code",
   "execution_count": 2,
   "id": "05fa8b22",
   "metadata": {},
   "outputs": [
    {
     "data": {
      "text/plain": [
       "5"
      ]
     },
     "execution_count": 2,
     "metadata": {},
     "output_type": "execute_result"
    }
   ],
   "source": [
    "class mathOperation1:\n",
    "    a = 0\n",
    "    b = 0\n",
    "    op = ''\n",
    "\n",
    "    def __init__(self,aVal,bVal,opVal):\n",
    "        self.a = aVal\n",
    "        self.b = bVal\n",
    "        self.op = opVal\n",
    "\n",
    "    def subValue(self):\n",
    "        return self.a - self.b\n",
    "    \n",
    "m1 = mathOperation1(10,5,'sub')\n",
    "\n",
    "m1.subValue()\n",
    "    "
   ]
  },
  {
   "cell_type": "markdown",
   "id": "8f8094fc",
   "metadata": {},
   "source": [
    "# example of divValue"
   ]
  },
  {
   "cell_type": "code",
   "execution_count": 6,
   "id": "838c2a18",
   "metadata": {},
   "outputs": [
    {
     "data": {
      "text/plain": [
       "2.0"
      ]
     },
     "execution_count": 6,
     "metadata": {},
     "output_type": "execute_result"
    }
   ],
   "source": [
    "class mathOperation2:\n",
    "    a = 0\n",
    "    b = 0\n",
    "    op = ''\n",
    "\n",
    "    def __init__(self,aVal,bVal,opVal):\n",
    "        self.a = aVal\n",
    "        self.b = bVal\n",
    "        self.op = opVal\n",
    "\n",
    "    def divValue(self):\n",
    "        return self.a / self.b\n",
    "    \n",
    "m1 = mathOperation2(10,5,'div')\n",
    "\n",
    "m1.divValue()"
   ]
  },
  {
   "cell_type": "markdown",
   "id": "1486b3d5",
   "metadata": {},
   "source": [
    "# example of mulValue"
   ]
  },
  {
   "cell_type": "code",
   "execution_count": 7,
   "id": "3091839b",
   "metadata": {},
   "outputs": [
    {
     "data": {
      "text/plain": [
       "50"
      ]
     },
     "execution_count": 7,
     "metadata": {},
     "output_type": "execute_result"
    }
   ],
   "source": [
    "class mathOperation3:\n",
    "    a = 0\n",
    "    b = 0\n",
    "    op = ''\n",
    "\n",
    "    def __init__(self,aVal,bVal,opVal):\n",
    "        self.a = aVal\n",
    "        self.b = bVal\n",
    "        self.op = opVal\n",
    "\n",
    "    def mulValue(self):\n",
    "        return self.a * self.b\n",
    "    \n",
    "m1 = mathOperation3(10,5,'mul')\n",
    "\n",
    "m1.mulValue()"
   ]
  }
 ],
 "metadata": {
  "kernelspec": {
   "display_name": "Python 3",
   "language": "python",
   "name": "python3"
  },
  "language_info": {
   "codemirror_mode": {
    "name": "ipython",
    "version": 3
   },
   "file_extension": ".py",
   "mimetype": "text/x-python",
   "name": "python",
   "nbconvert_exporter": "python",
   "pygments_lexer": "ipython3",
   "version": "3.9.12"
  }
 },
 "nbformat": 4,
 "nbformat_minor": 5
}
